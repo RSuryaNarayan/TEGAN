{
 "cells": [
  {
   "cell_type": "code",
   "execution_count": 1,
   "metadata": {},
   "outputs": [
    {
     "name": "stderr",
     "output_type": "stream",
     "text": [
      "/usr/local/lib/python3.5/dist-packages/tensorflow/python/framework/dtypes.py:493: FutureWarning: Passing (type, 1) or '1type' as a synonym of type is deprecated; in a future version of numpy, it will be understood as (type, (1,)) / '(1,)type'.\n",
      "  _np_qint8 = np.dtype([(\"qint8\", np.int8, 1)])\n",
      "/usr/local/lib/python3.5/dist-packages/tensorflow/python/framework/dtypes.py:494: FutureWarning: Passing (type, 1) or '1type' as a synonym of type is deprecated; in a future version of numpy, it will be understood as (type, (1,)) / '(1,)type'.\n",
      "  _np_quint8 = np.dtype([(\"quint8\", np.uint8, 1)])\n",
      "/usr/local/lib/python3.5/dist-packages/tensorflow/python/framework/dtypes.py:495: FutureWarning: Passing (type, 1) or '1type' as a synonym of type is deprecated; in a future version of numpy, it will be understood as (type, (1,)) / '(1,)type'.\n",
      "  _np_qint16 = np.dtype([(\"qint16\", np.int16, 1)])\n",
      "/usr/local/lib/python3.5/dist-packages/tensorflow/python/framework/dtypes.py:496: FutureWarning: Passing (type, 1) or '1type' as a synonym of type is deprecated; in a future version of numpy, it will be understood as (type, (1,)) / '(1,)type'.\n",
      "  _np_quint16 = np.dtype([(\"quint16\", np.uint16, 1)])\n",
      "/usr/local/lib/python3.5/dist-packages/tensorflow/python/framework/dtypes.py:497: FutureWarning: Passing (type, 1) or '1type' as a synonym of type is deprecated; in a future version of numpy, it will be understood as (type, (1,)) / '(1,)type'.\n",
      "  _np_qint32 = np.dtype([(\"qint32\", np.int32, 1)])\n",
      "/usr/local/lib/python3.5/dist-packages/tensorflow/python/framework/dtypes.py:502: FutureWarning: Passing (type, 1) or '1type' as a synonym of type is deprecated; in a future version of numpy, it will be understood as (type, (1,)) / '(1,)type'.\n",
      "  np_resource = np.dtype([(\"resource\", np.ubyte, 1)])\n"
     ]
    }
   ],
   "source": [
    "import matplotlib.pyplot as plt\n",
    "import numpy\n",
    "import sys\n",
    "\n",
    "sys.path.insert(0, \"../lib/\")\n",
    "\n",
    "import hitDataTools\n",
    "import energySpectrum3D\n",
    "\n",
    "import tensorflow as tf\n"
   ]
  },
  {
   "cell_type": "code",
   "execution_count": 2,
   "metadata": {},
   "outputs": [
    {
     "name": "stdout",
     "output_type": "stream",
     "text": [
      "1.5.0\n"
     ]
    }
   ],
   "source": [
    "print(tf.__version__)"
   ]
  },
  {
   "cell_type": "code",
   "execution_count": 3,
   "metadata": {},
   "outputs": [],
   "source": [
    "N = 128\n",
    "spectrum = energySpectrum3D.energySpectrum3D(64, 64, 64)\n",
    "spectrum_128 = energySpectrum3D.energySpectrum3D(N, N, N)"
   ]
  },
  {
   "cell_type": "code",
   "execution_count": 4,
   "metadata": {},
   "outputs": [],
   "source": [
    "\n",
    "# file_info = (\"/home/manlong/Data/HIT/output/64x64x64/Run01_\", 300000)\n",
    "file_info = (\"/home/manlong/IPython_Notebook/TEGAN/plot_spectrum/data/128x128x128/Run01_\", 200000)\n",
    "\n",
    "u, v, w, p = hitDataTools.read_data(file_info)\n",
    "\n",
    "u.shape\n",
    "\n",
    "k, Ek = spectrum_128.getEnergySpectrum3D(u, v, w, nbins=None, log_binning=False)\n",
    "k, Eu = spectrum_128.getScalarSpectrum3D(u, nbins=None, log_binning=False)\n"
   ]
  },
  {
   "cell_type": "code",
   "execution_count": null,
   "metadata": {},
   "outputs": [],
   "source": []
  },
  {
   "cell_type": "code",
   "execution_count": 5,
   "metadata": {},
   "outputs": [],
   "source": [
    "def parseTFRecordExample(example_proto):\n",
    "    features = {'u': tf.VarLenFeature(tf.float32),\n",
    "                'v': tf.VarLenFeature(tf.float32),\n",
    "                'w': tf.VarLenFeature(tf.float32),\n",
    "                'p': tf.VarLenFeature(tf.float32),\n",
    "                'shape': tf.FixedLenFeature((3), tf.int64)}\n",
    "    \n",
    "    parsed_features = tf.parse_single_example(example_proto, features)\n",
    "   \n",
    "    shape = tf.stack(parsed_features['shape'])\n",
    "\n",
    "    u = tf.sparse_tensor_to_dense(parsed_features['u'])\n",
    "    u = tf.reshape(u,shape)\n",
    "\n",
    "    v = tf.sparse_tensor_to_dense(parsed_features['v'])\n",
    "    v = tf.reshape(v,shape)    \n",
    "    \n",
    "    w = tf.sparse_tensor_to_dense(parsed_features['w'])\n",
    "    w = tf.reshape(w,shape)\n",
    "    \n",
    "    p = tf.sparse_tensor_to_dense(parsed_features['p'])\n",
    "    p = tf.reshape(p,shape)\n",
    "    \n",
    "    _, u_var = tf.nn.moments(u, axes=[0,1,2])\n",
    "    _, v_var = tf.nn.moments(v, axes=[0,1,2])\n",
    "    _, w_var = tf.nn.moments(w, axes=[0,1,2])\n",
    "\n",
    "#     u_rms = tf.sqrt( u_var + v_var + w_var )\n",
    "\n",
    "#     u = u / u_rms\n",
    "#     v = v / u_rms\n",
    "#     w = w / u_rms\n",
    "#     p = p / (u_rms * u_rms)\n",
    "    \n",
    "    element = tf.stack( [u, v, w, p], axis=3 )\n",
    "\n",
    "    return element\n"
   ]
  },
  {
   "cell_type": "code",
   "execution_count": 6,
   "metadata": {},
   "outputs": [
    {
     "name": "stdout",
     "output_type": "stream",
     "text": [
      "next_element:      (1, 64, 64, 64, 4)\n"
     ]
    },
    {
     "data": {
      "image/png": "[encoded data removed]",
      "text/plain": [
       "<matplotlib.figure.Figure at 0x7f5b542deef0>"
      ]
     },
     "metadata": {},
     "output_type": "display_data"
    }
   ],
   "source": [
    "dataset = tf.data.TFRecordDataset([\"./data/Run01_020000.tfrecord\"])\n",
    "dataset = dataset.map(parseTFRecordExample)\n",
    "batched_dataset = dataset.batch(4)\n",
    "iterator = batched_dataset.make_one_shot_iterator()\n",
    "\n",
    "next_element = iterator.get_next()\n",
    "\n",
    "with tf.Session() as sess:\n",
    "    ne, = sess.run([next_element])\n",
    "    print(\"next_element:     \", ne.shape)\n",
    "\n",
    "u_tfr = ne[0,:,:,:,0]\n",
    "v_tfr = ne[0,:,:,:,1]\n",
    "w_tfr = ne[0,:,:,:,2]\n",
    "p_tfr = ne[0,:,:,:,3]\n",
    "\n",
    "k_tf, Ek_tf = spectrum.getEnergySpectrum3D(u_tfr, v_tfr, w_tfr, nbins=None, log_binning=False)\n",
    "k_tf, Eu_tf = spectrum.getScalarSpectrum3D(u_tfr, nbins=None, log_binning=False)\n",
    "\n",
    "plt.figure(figsize=(10,6))\n",
    "plt.loglog(k_tf, Ek_tf, label='tfrecord')\n",
    "plt.loglog(k, Ek, label='re-run')\n",
    "# plt.xlim(0.9, 40)\n",
    "plt.xlim(0.9, 80)\n",
    "plt.ylim(1.0e-7, 1)\n",
    "plt.xlabel('k', fontsize=16)\n",
    "plt.ylabel('E(k)', fontsize=16)\n",
    "plt.legend(fontsize=14)\n",
    "plt.show()\n"
   ]
  },
  {
   "cell_type": "code",
   "execution_count": 9,
   "metadata": {},
   "outputs": [
    {
     "name": "stdout",
     "output_type": "stream",
     "text": [
      "1.2566370614359172\n",
      "0.3758844261079178\n",
      "136.34831196318987\n",
      "30.14944023396232\n",
      "414.9057783890813\n",
      "3.3431474521243723\n"
     ]
    }
   ],
   "source": [
    "# u_sq = numpy.trapz(Ek, k)\n",
    "# print(u_sq)\n",
    "# print(numpy.mean(u**2 + v**2 +w**2))\n",
    "\n",
    "l_0 = 2.0*numpy.pi/5.0\n",
    "\n",
    "print(l_0)\n",
    "u_rms = numpy.sqrt(numpy.mean(u**2 + v**2 +w**2)/3.0)\n",
    "print(u_rms)\n",
    "\n",
    "# nu = 0.0106913706953 # 64^3\n",
    "nu = 0.00424287327 # 128^3\n",
    "Re_l = numpy.sqrt(3.0/2.0)*u_rms*l_0/nu\n",
    "print(Re_l)\n",
    "Re_lambda = numpy.sqrt(20.0/3.0*Re_l)\n",
    "print(Re_lambda)\n",
    "\n",
    "tau_0 = l_0/u_rms\n",
    "safety_factor = 1.0\n",
    "# dt_mean = 0.020186780044464125 # 64^3\n",
    "dt_mean = 0.008057606392238067 # 128^3\n",
    "print(safety_factor*tau_0/dt_mean)\n",
    "print(tau_0)\n"
   ]
  },
  {
   "cell_type": "code",
   "execution_count": 8,
   "metadata": {},
   "outputs": [
    {
     "data": {
      "text/plain": [
       "12.111914086156082"
      ]
     },
     "execution_count": 8,
     "metadata": {},
     "output_type": "execute_result"
    }
   ],
   "source": [
    "1500*1000/123845"
   ]
  }
 ],
 "metadata": {
  "kernelspec": {
   "display_name": "Python 3",
   "language": "python",
   "name": "python3"
  },
  "language_info": {
   "codemirror_mode": {
    "name": "ipython",
    "version": 3
   },
   "file_extension": ".py",
   "mimetype": "text/x-python",
   "name": "python",
   "nbconvert_exporter": "python",
   "pygments_lexer": "ipython3",
   "version": "3.5.2"
  }
 },
 "nbformat": 4,
 "nbformat_minor": 2
}
